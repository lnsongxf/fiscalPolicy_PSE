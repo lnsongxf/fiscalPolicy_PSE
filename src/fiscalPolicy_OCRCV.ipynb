{
 "cells": [
  {
   "cell_type": "code",
   "execution_count": null,
   "metadata": {
    "scrolled": true
   },
   "outputs": [],
   "source": [
    "import numpy as np\n",
    "import pandas as pd\n",
    "from scipy.optimize import fsolve, bisect\n",
    "from itertools import product\n",
    "from plotly.offline import init_notebook_mode, iplot\n",
    "from plotly import tools\n",
    "import plotly.io as pio\n",
    "import plotly.graph_objs as go\n",
    "init_notebook_mode()\n",
    "import os"
   ]
  },
  {
   "cell_type": "markdown",
   "metadata": {},
   "source": [
    "# Complete Market: Replication"
   ]
  },
  {
   "cell_type": "markdown",
   "metadata": {},
   "source": [
    "In this part we try to replicate some results of Lucas Stokey (1983)"
   ]
  },
  {
   "cell_type": "markdown",
   "metadata": {},
   "source": [
    "We assume that the utility function is of the form:\n",
    "\n",
    "$$U(c,n) = \\frac{c^{1-\\rho} - 1}{1-\\rho} - \\chi \\frac{n^{1+\\psi}}{1+\\psi}$$\n",
    "\n",
    "where $\\chi=1.5$, $\\psi=1$ and $\\rho=1.01$.\n",
    "\n",
    "We also assume that government spending follow a two-state Markov chain, with $g_L$ =0.1, $g_H$ =0.2,\n",
    "$g_0$ = $g_L$, and the transition matrix $\\Pi$=$\n",
    "\\left(\\begin{array}{cc} \n",
    "0.9 & 0.1\\\\\n",
    "0.5 & 0.5\n",
    "\\end{array}\\right)$"
   ]
  },
  {
   "cell_type": "code",
   "execution_count": null,
   "metadata": {},
   "outputs": [],
   "source": [
    "# global variables (not pythonic but in the spirit of the exercise)\n",
    "chi = 1.5\n",
    "psi = 1\n",
    "rho = 1.01\n",
    "beta = .9\n",
    "g = np.array([.1, .2])\n",
    "pi = np.array([[.9, .1], [.5, .5]])"
   ]
  },
  {
   "cell_type": "code",
   "execution_count": null,
   "metadata": {},
   "outputs": [],
   "source": [
    "plot_path = '../plots' \n",
    "plotnb = 1"
   ]
  },
  {
   "cell_type": "markdown",
   "metadata": {},
   "source": [
    "## Q1. $t \\geq 1$"
   ]
  },
  {
   "cell_type": "markdown",
   "metadata": {},
   "source": [
    "### a. Plot the history-independent and time-invariant tax $\\tau(\\Phi)$"
   ]
  },
  {
   "cell_type": "markdown",
   "metadata": {},
   "source": [
    "From the lecture notes we know that $$\\tau = \\frac{\\Phi(\\rho + \\psi)}{1 + \\Phi(1+\\psi)}$$"
   ]
  },
  {
   "cell_type": "code",
   "execution_count": null,
   "metadata": {},
   "outputs": [],
   "source": [
    "def tau(phi: float, rho: float = rho, psi: float = psi):\n",
    "    \"\"\"Returns the the tax rate\"\"\"\n",
    "    return phi*(rho + psi) / (1 + phi*(1 + psi))"
   ]
  },
  {
   "cell_type": "code",
   "execution_count": null,
   "metadata": {},
   "outputs": [],
   "source": [
    "x = np.arange(0, 1, .01)\n",
    "y = tau(x)\n",
    "data = [go.Scatter(x=x, y=y, mode=\"lines\")]\n",
    "layout = go.Layout(title='$Tax~rate~as~a~function~of~\\Phi$',\n",
    "                   xaxis=dict(title='$\\Phi$'),\n",
    "                   yaxis=dict(title='$\\\\tau(\\Phi)$'))\n",
    "fig = go.Figure(data=data, layout=layout)\n",
    "pio.write_image(fig, plot_path + '/fig{}.pdf'.format(plotnb))\n",
    "plotnb += 1\n",
    "iplot(fig)"
   ]
  },
  {
   "cell_type": "markdown",
   "metadata": {},
   "source": [
    "### b. Plot the history-independent and time-invariant allocations ${c(\\Phi,g), n(\\Phi, g)} \\forall g$, as a function of $\\Phi$.\n"
   ]
  },
  {
   "cell_type": "markdown",
   "metadata": {},
   "source": [
    "From the lecture notes, using the $*$ equation and the feasibility constraint we know that the following relations hold:\n",
    "\n",
    "$$c(g) + g - n(g) = 0$$\n",
    "$$(1 + \\Phi) (u_c(g) + u_n(g)) + \\Phi (c(g) u_{cc}(g) + n(g) u_{nn}(g)) = 0$$"
   ]
  },
  {
   "cell_type": "code",
   "execution_count": null,
   "metadata": {},
   "outputs": [],
   "source": [
    "def star(c, n, phi, b0):\n",
    "    \"\"\"Returns the star equation \"\"\"\n",
    "    u_c = c**(-rho)\n",
    "    u_cc = -rho * c**(-rho - 1)\n",
    "    u_n = -chi * n**psi\n",
    "    u_nn = -chi * psi * n**(psi - 1)\n",
    "    return (1 + phi) * (u_c + u_n) + phi * ((c-b0) * u_cc + n * u_nn)"
   ]
  },
  {
   "cell_type": "code",
   "execution_count": null,
   "metadata": {},
   "outputs": [],
   "source": [
    "def allocation(z, *args):\n",
    "    \"\"\"Returns the allocation system\"\"\"\n",
    "    c, n = z\n",
    "    g, phi, b0 = args\n",
    "    return (c + g - n,\n",
    "            star(c, n, phi, b0))"
   ]
  },
  {
   "cell_type": "code",
   "execution_count": null,
   "metadata": {},
   "outputs": [],
   "source": [
    "b0 = 0\n",
    "args_list = [args_ for args_ in product(g, np.arange(0, 1, .01))]\n",
    "args_list = [(*args_list[i], b0) for i in range(len(args_list))]\n",
    "z = [tuple(fsolve(allocation, (.42, .42), args))\n",
    "     for args in args_list]\n",
    "data_ = [[*args_list[i], *z[i]]\n",
    "         for i in range(len(args_list))]\n",
    "df_cn = pd.DataFrame(\n",
    "    data_, columns=['state', 'phi', 'b0', 'Consumption', 'Labor supply'])"
   ]
  },
  {
   "cell_type": "code",
   "execution_count": null,
   "metadata": {
    "scrolled": false
   },
   "outputs": [],
   "source": [
    "for v in ['Consumption', 'Labor supply']:\n",
    "    data = []\n",
    "    for s in g:\n",
    "        tmp = df_cn.query('state==@s')\n",
    "        data += [go.Scatter(\n",
    "            x=tmp['phi'],\n",
    "            y=tmp[v],\n",
    "            name='g={}'.format(s)\n",
    "        )]\n",
    "    layout = go.Layout(title='${}~in~function~of~(\\Phi, g)$'.format(v),\n",
    "                       xaxis=dict(title='$\\Phi$'),\n",
    "                       yaxis=dict(title='${}(\\Phi)$'.format(v))\n",
    "                       )\n",
    "    fig = go.Figure(data=data, layout=layout)\n",
    "    pio.write_image(fig, plot_path + '/fig{}.pdf'.format(plotnb))\n",
    "    plotnb += 1\n",
    "    iplot(fig)"
   ]
  },
  {
   "cell_type": "markdown",
   "metadata": {},
   "source": [
    "### c. Write the implementability constraints recursively to find ${b(\\Phi, g)}$, and plot debt policies as a function of $\\Phi$."
   ]
  },
  {
   "cell_type": "markdown",
   "metadata": {},
   "source": [
    "From the lecture notes, using the implementability constraint, we know that the following relations hold:\n",
    "\n",
    "$$u_{c_L}c_L + u_{n_L}n_L + \\beta (\\pi_{LL}u_{c_L}b_L + \\pi_{LH}u_{c_H}b_H) -u_{c_L}b_L = 0$$\n",
    "$$u_{c_H}c_H + u_{n_H}n_H + \\beta (\\pi_{HL}u_{c_L}b_L + \\pi_{HH}u_{c_H}b_H)-u_{c_H}b_H=0$$"
   ]
  },
  {
   "cell_type": "code",
   "execution_count": null,
   "metadata": {},
   "outputs": [],
   "source": [
    "def bonds(z, *args):\n",
    "    \"\"\"Returns bonds level\"\"\"\n",
    "    bl, bh = z\n",
    "    phi = args\n",
    "    cl, nl = df_cn.query('phi==@phi and state==.1')['Consumption'].values[0], df_cn.query(\n",
    "        'phi==@phi and state==.1')['Labor supply'].values[0]\n",
    "    ch, nh = df_cn.query('phi==@phi and state==.2')['Consumption'].values[0], df_cn.query(\n",
    "        'phi==@phi and state==.2')['Labor supply'].values[0]\n",
    "\n",
    "    def u_c(c):\n",
    "        return c**(-rho)\n",
    "\n",
    "    def u_n(n):\n",
    "        return -chi * n**psi\n",
    "\n",
    "    return (u_c(cl) * cl + u_n(nl) * nl + beta *\n",
    "            (pi[0, 0] * u_c(cl) * bl + pi[0, 1] * u_c(ch) * bh) - u_c(cl) * bl,\n",
    "            u_c(ch) * ch + u_n(nh) * nh + beta *\n",
    "            (pi[1, 0] * u_c(cl) * bl + pi[1, 1] * u_c(ch) * bh) - u_c(ch) * bh)"
   ]
  },
  {
   "cell_type": "code",
   "execution_count": null,
   "metadata": {},
   "outputs": [],
   "source": [
    "z = [tuple(fsolve(bonds, (.42, .42), phi))\n",
    "     for phi in np.arange(0, 1, .01)]\n",
    "df_b = pd.DataFrame([(i / 100, *z[i])\n",
    "                     for i in range(len(z))],\n",
    "                    columns=['phi', 'low_state', 'high_state'])"
   ]
  },
  {
   "cell_type": "code",
   "execution_count": null,
   "metadata": {},
   "outputs": [],
   "source": [
    "data = [\n",
    "    go.Scatter(x=df_b['phi'], y=df_b['low_state'], name='g=0.1'),\n",
    "    go.Scatter(x=df_b['phi'], y=df_b['high_state'], name='g=0.2')\n",
    "]\n",
    "layout = go.Layout(\n",
    "    title='$Bonds~in~function~of~(\\Phi, g)$'.format(v),\n",
    "    xaxis=dict(title='$\\Phi$'),\n",
    "    yaxis=dict(title='$b(\\Phi)$'))\n",
    "fig = go.Figure(data=data, layout=layout)\n",
    "pio.write_image(fig, plot_path + '/fig{}.pdf'.format(plotnb))\n",
    "plotnb += 1\n",
    "iplot(fig)"
   ]
  },
  {
   "cell_type": "markdown",
   "metadata": {},
   "source": [
    "### d. What can you say about the relationship between $\\Phi$ and $\\tau$? Between $\\Phi$ and $c$?"
   ]
  },
  {
   "cell_type": "markdown",
   "metadata": {},
   "source": [
    "<font color='red'>TODO</font>"
   ]
  },
  {
   "cell_type": "markdown",
   "metadata": {},
   "source": [
    "## t=0"
   ]
  },
  {
   "cell_type": "markdown",
   "metadata": {},
   "source": [
    "From the lecture notes, using the feasibility constraint at $t=0$ and the ($*-0$) equation, we know that the following relations hold:\n",
    "\n",
    "$$c_0 + g_0 = n_0$$\n",
    "$$(1 + \\Phi) (u_{c,0} + u_{n,0}) + \\Phi ((c_0 -b_0) u_{cc,0} + n_0 u_{nn,0}) = 0$$"
   ]
  },
  {
   "cell_type": "code",
   "execution_count": null,
   "metadata": {
    "scrolled": true
   },
   "outputs": [],
   "source": [
    "ngrid = 100\n",
    "g_ = .1\n",
    "z_c = np.empty([ngrid, ngrid])\n",
    "z_n = np.empty([ngrid, ngrid])\n",
    "phi_ = np.linspace(0, 1, ngrid)\n",
    "b0_ = np.linspace(-.1, .1, ngrid)\n",
    "for i in range(100):\n",
    "    for j in range(100):\n",
    "        z_c[i, j], z_n[i, j] = fsolve(allocation, (.5, .5),\n",
    "                                      (g_, phi_[i], b0_[j]))"
   ]
  },
  {
   "cell_type": "code",
   "execution_count": null,
   "metadata": {},
   "outputs": [],
   "source": [
    "for v in ['Consumption', 'Labor supply']:\n",
    "    if v == 'Consumption':\n",
    "        z_tmp = z_c\n",
    "    else:\n",
    "        z_tmp = z_n\n",
    "    data = [\n",
    "        go.Surface(\n",
    "            z=z_tmp,\n",
    "            x=np.linspace(0, 1, 100),\n",
    "            y=np.linspace(-.1, .1, 100),\n",
    "        )\n",
    "    ]\n",
    "    layout = go.Layout(\n",
    "        title='${}~at~time~0~in~function~of~(\\Phi, b_0)$'.format(v),\n",
    "        autosize=True,\n",
    "        xaxis=dict(title='$\\Phi$'),\n",
    "        yaxis=dict(title='$b$'),\n",
    "        #    zaxis=dict(title='$Consumption_0$')\n",
    "    )\n",
    "    fig = go.Figure(data=data, layout=layout)\n",
    "    pio.write_image(fig, plot_path + '/fig{}.pdf'.format(plotnb))\n",
    "    plotnb += 1\n",
    "    iplot(fig)"
   ]
  },
  {
   "cell_type": "markdown",
   "metadata": {},
   "source": [
    "### b. Use a bisection method to find $\\Phi$ as a function of $b_0$. Plot $\\Phi$ as a function of $b_0$."
   ]
  },
  {
   "cell_type": "code",
   "execution_count": null,
   "metadata": {},
   "outputs": [],
   "source": [
    "def implementability(phi, *args):\n",
    "    b0, g = args\n",
    "    args = (g, phi, b0)\n",
    "    c, n = fsolve(allocation, (0.1, 0.1), args)\n",
    "    u_c = c**(-rho)\n",
    "    u_n = -chi * n**psi\n",
    "    return u_c*c + u_n * n - u_c * b0"
   ]
  },
  {
   "cell_type": "code",
   "execution_count": null,
   "metadata": {},
   "outputs": [],
   "source": [
    "x = np.linspace(-.099, .099, 100)\n",
    "y = [bisect(implementability, 0, 1, (b0, .1)) for b0 in x]"
   ]
  },
  {
   "cell_type": "code",
   "execution_count": null,
   "metadata": {},
   "outputs": [],
   "source": [
    "data = [go.Scatter(x=x, y=y)]\n",
    "layout = go.Layout(title='$\\Phi~as~a~function~of~b_0$',\n",
    "                   xaxis=dict(title='$b_0$'),\n",
    "                   yaxis=dict(title='$\\Phi(b_0)$'))\n",
    "fig = go.Figure(data=data, layout=layout)\n",
    "pio.write_image(fig, plot_path + '/fig{}.pdf'.format(plotnb))\n",
    "plotnb += 1\n",
    "iplot(fig)"
   ]
  },
  {
   "cell_type": "markdown",
   "metadata": {},
   "source": [
    "### c. What can you say about the relation between $b_0$ and $\\Phi$?"
   ]
  },
  {
   "cell_type": "markdown",
   "metadata": {},
   "source": [
    "<font color=red>TODO</font>"
   ]
  },
  {
   "cell_type": "markdown",
   "metadata": {},
   "source": [
    "## Simulation"
   ]
  },
  {
   "cell_type": "markdown",
   "metadata": {},
   "source": [
    "Simulate the economy for 100 periods. Plot the simulated govern- ment spending, allocations, tax and debt-to-output ratios. "
   ]
  },
  {
   "cell_type": "code",
   "execution_count": null,
   "metadata": {},
   "outputs": [],
   "source": [
    "def markovseq(length: int, states, transition: np.matrix, seed=42):\n",
    "    \"\"\"Simulates a Markov sequence\"\"\"\n",
    "    np.random.seed(seed)\n",
    "    seq = [states[0]]\n",
    "    for i in range(length):\n",
    "        if seq[-1] == states[0]:  # low state\n",
    "            seq += [np.random.choice(states, p=pi[0])]\n",
    "        else:  # high state\n",
    "            seq += [np.random.choice(states, p=pi[1])]\n",
    "    return seq"
   ]
  },
  {
   "cell_type": "code",
   "execution_count": null,
   "metadata": {},
   "outputs": [],
   "source": [
    "def simul(sequence, b0: float):\n",
    "    \"\"\"Simulates the economy\"\"\"\n",
    "    # init\n",
    "    g_ = sequence[0]\n",
    "    g = [sequence[0]]\n",
    "    b = [b0]\n",
    "    phi_ = bisect(implementability, 0, 1, (b0, g))\n",
    "    args = (g_, phi_, b0)\n",
    "    c_, n_ = fsolve(allocation, (.42, .42), args)\n",
    "    c, n = [c_], [n_]\n",
    "    t = [(c_**(-rho) - chi * n_**psi)/(c_**(-rho))]\n",
    "\n",
    "    # iter\n",
    "    phi_ = round(phi_, 2)\n",
    "    for i in np.arange(1, len(sequence)):\n",
    "        state_ = sequence[i]\n",
    "        g += [state_]\n",
    "        args = (g[-1], phi_, b[-1])\n",
    "        c_, n_ = fsolve(allocation, (.42, .42), args)\n",
    "        c += [c_]\n",
    "        n += [n_]\n",
    "        t += [tau(phi=phi_)]\n",
    "        if state_ == .1:\n",
    "            b += [df_b.query('phi==@phi_')['low_state'].values[0]]\n",
    "        else:\n",
    "            b += [df_b.query('phi==@phi_')['high_state'].values[0]]\n",
    "\n",
    "    return g, b, c, n, t"
   ]
  },
  {
   "cell_type": "code",
   "execution_count": null,
   "metadata": {},
   "outputs": [],
   "source": [
    "def plot_simul(simul):\n",
    "    \"\"\"Plots the simulated economy\"\"\"\n",
    "    g, b, c, n, t = simul\n",
    "\n",
    "    def quadrant(series, **kwargs):\n",
    "        \"\"\"\"\"\"\n",
    "        periods = np.arange(len(series))\n",
    "        trace = go.Scatter(x=periods, y=series,\n",
    "                           mode='lines', marker=dict(color='rgb(145,191,219)'),\n",
    "                           **kwargs)\n",
    "        return trace\n",
    "\n",
    "    c_trace = quadrant(c)\n",
    "    n_trace = quadrant(n)\n",
    "    b_trace = quadrant(b)\n",
    "    g_trace = quadrant(g)\n",
    "    t_trace = quadrant(t)\n",
    "    bn_trace = quadrant(np.divide(b, n))\n",
    "\n",
    "    fig = tools.make_subplots(rows=3, cols=2,\n",
    "                              subplot_titles=('Consumption',\n",
    "                                              'Labor supply',\n",
    "                                              'Government debt',\n",
    "                                              'Government expenditures',\n",
    "                                              'Tax rate',\n",
    "                                              'Debt/output ratio'))\n",
    "    fig.append_trace(c_trace, 1, 1)\n",
    "    fig.append_trace(n_trace, 1, 2)\n",
    "    fig.append_trace(b_trace, 2, 1)\n",
    "    fig.append_trace(g_trace, 2, 2)\n",
    "    fig.append_trace(t_trace, 3, 1)\n",
    "    fig.append_trace(bn_trace, 3, 2)\n",
    "\n",
    "    fig.layout.update(title='$Simulated~economy~under~b_0={}$'.format(b[0]),\n",
    "                      showlegend=False)\n",
    "\n",
    "    return fig"
   ]
  },
  {
   "cell_type": "code",
   "execution_count": null,
   "metadata": {},
   "outputs": [],
   "source": [
    "seq = markovseq(100, (.1, .2), pi)"
   ]
  },
  {
   "cell_type": "markdown",
   "metadata": {},
   "source": [
    "### Assume $b_0 = 0$. What can you say about τ0?"
   ]
  },
  {
   "cell_type": "code",
   "execution_count": null,
   "metadata": {},
   "outputs": [],
   "source": [
    "simul_ = simul(seq, 0)\n",
    "fig = plot_simul(simul_)\n",
    "pio.write_image(fig, plot_path + '/fig{}.pdf'.format(plotnb))\n",
    "plotnb += 1\n",
    "iplot(fig)"
   ]
  },
  {
   "cell_type": "markdown",
   "metadata": {},
   "source": [
    "### Now assume b0 = 0.1. "
   ]
  },
  {
   "cell_type": "code",
   "execution_count": null,
   "metadata": {},
   "outputs": [],
   "source": [
    "simul_ = simul(seq, .1)\n",
    "fig = plot_simul(simul_)\n",
    "pio.write_image(fig, plot_path + '/fig{}.pdf'.format(plotnb))\n",
    "plotnb += 1\n",
    "iplot(fig)"
   ]
  },
  {
   "cell_type": "markdown",
   "metadata": {},
   "source": [
    "### Now assume b0 = −0.1."
   ]
  },
  {
   "cell_type": "code",
   "execution_count": null,
   "metadata": {},
   "outputs": [],
   "source": [
    "simul_ = simul(seq, -.099)\n",
    "fig = plot_simul(simul_)\n",
    "pio.write_image(fig, plot_path + '/fig{}.pdf'.format(plotnb))\n",
    "plotnb += 1\n",
    "iplot(fig)"
   ]
  },
  {
   "cell_type": "code",
   "execution_count": null,
   "metadata": {},
   "outputs": [],
   "source": [
    "\n"
   ]
  }
 ],
 "metadata": {
  "kernelspec": {
   "display_name": "PhD",
   "language": "python",
   "name": "phd"
  },
  "language_info": {
   "codemirror_mode": {
    "name": "ipython",
    "version": 3
   },
   "file_extension": ".py",
   "mimetype": "text/x-python",
   "name": "python",
   "nbconvert_exporter": "python",
   "pygments_lexer": "ipython3",
   "version": "3.7.0"
  },
  "latex_envs": {
   "LaTeX_envs_menu_present": true,
   "autoclose": false,
   "autocomplete": true,
   "bibliofile": "biblio.bib",
   "cite_by": "apalike",
   "current_citInitial": 1,
   "eqLabelWithNumbers": true,
   "eqNumInitial": 1,
   "hotkeys": {
    "equation": "Ctrl-E",
    "itemize": "Ctrl-I"
   },
   "labels_anchors": false,
   "latex_user_defs": false,
   "report_style_numbering": false,
   "user_envs_cfg": false
  },
  "toc": {
   "base_numbering": 1,
   "nav_menu": {},
   "number_sections": true,
   "sideBar": true,
   "skip_h1_title": false,
   "title_cell": "Table of Contents",
   "title_sidebar": "Contents",
   "toc_cell": false,
   "toc_position": {},
   "toc_section_display": true,
   "toc_window_display": false
  }
 },
 "nbformat": 4,
 "nbformat_minor": 2
}
